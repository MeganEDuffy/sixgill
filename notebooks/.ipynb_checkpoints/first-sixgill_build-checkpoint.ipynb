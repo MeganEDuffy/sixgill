{
 "cells": [
  {
   "cell_type": "code",
   "execution_count": 11,
   "metadata": {
    "collapsed": false
   },
   "outputs": [
    {
     "name": "stdout",
     "output_type": "stream",
     "text": [
      "/Users/meganduffy/anaconda/envs/sixgill/bin\n"
     ]
    }
   ],
   "source": [
    "cd ~/anaconda/envs/sixgill/bin"
   ]
  },
  {
   "cell_type": "markdown",
   "metadata": {},
   "source": [
    "This is where sixgill lives, in my anaconda directory\n",
    "There are a couple of interseting exectives in the bin dir"
   ]
  },
  {
   "cell_type": "code",
   "execution_count": 14,
   "metadata": {
    "collapsed": false
   },
   "outputs": [
    {
     "name": "stdout",
     "output_type": "stream",
     "text": [
      "\u001b[31m2to3\u001b[m\u001b[m*                  \u001b[31mipython\u001b[m\u001b[m*               \u001b[31mpythonw\u001b[m\u001b[m*\r\n",
      "Banquet Permit.pdf     \u001b[31mipython2\u001b[m\u001b[m*              \u001b[35mreset\u001b[m\u001b[m@\r\n",
      "\u001b[31mace2sam\u001b[m\u001b[m*               \u001b[31mjupyter\u001b[m\u001b[m*               \u001b[31msam2vcf.pl\u001b[m\u001b[m*\r\n",
      "\u001b[35mactivate\u001b[m\u001b[m@              \u001b[31mjupyter-kernelspec\u001b[m\u001b[m*    \u001b[31msamtools\u001b[m\u001b[m*\r\n",
      "\u001b[31mbcftools\u001b[m\u001b[m*              \u001b[31mjupyter-migrate\u001b[m\u001b[m*       \u001b[31msamtools.pl\u001b[m\u001b[m*\r\n",
      "\u001b[31mbgzip\u001b[m\u001b[m*                 \u001b[31mmaq2sam-long\u001b[m\u001b[m*          \u001b[31mseq_cache_populate.pl\u001b[m\u001b[m*\r\n",
      "\u001b[31mblast2sam.pl\u001b[m\u001b[m*          \u001b[31mmaq2sam-short\u001b[m\u001b[m*         \u001b[31msixgill_build\u001b[m\u001b[m*\r\n",
      "\u001b[31mbowtie2sam.pl\u001b[m\u001b[m*         \u001b[31mmd5fa\u001b[m\u001b[m*                 \u001b[31msixgill_filter\u001b[m\u001b[m*\r\n",
      "\u001b[31mc_rehash\u001b[m\u001b[m*              \u001b[31mmd5sum-lite\u001b[m\u001b[m*           \u001b[31msixgill_makefasta\u001b[m\u001b[m*\r\n",
      "\u001b[35mcaptoinfo\u001b[m\u001b[m@             \u001b[31mncursesw5-config\u001b[m\u001b[m*      \u001b[31msixgill_merge\u001b[m\u001b[m*\r\n",
      "\u001b[31mclear\u001b[m\u001b[m*                 \u001b[31mnovo2sam.pl\u001b[m\u001b[m*           \u001b[31msmtpd.py\u001b[m\u001b[m*\r\n",
      "\u001b[31mcolor-chrs.pl\u001b[m\u001b[m*         \u001b[31mopenssl\u001b[m\u001b[m*               \u001b[31msoap2sam.pl\u001b[m\u001b[m*\r\n",
      "\u001b[35mconda\u001b[m\u001b[m@                 \u001b[31mpip\u001b[m\u001b[m*                   \u001b[31msqlite3\u001b[m\u001b[m*\r\n",
      "\u001b[31mcurl\u001b[m\u001b[m*                  \u001b[31mplot-bamstats\u001b[m\u001b[m*         \u001b[31mtabix\u001b[m\u001b[m*\r\n",
      "\u001b[31mcurl-config\u001b[m\u001b[m*           \u001b[31mplot-vcfstats\u001b[m\u001b[m*         \u001b[31mtabs\u001b[m\u001b[m*\r\n",
      "\u001b[35mdeactivate\u001b[m\u001b[m@            \u001b[31mpsl2sam.pl\u001b[m\u001b[m*            \u001b[31mtclsh8.5\u001b[m\u001b[m*\r\n",
      "\u001b[31measy_install\u001b[m\u001b[m*          \u001b[31mpydoc\u001b[m\u001b[m*                 \u001b[31mtic\u001b[m\u001b[m*\r\n",
      "\u001b[35measy_install-2.7\u001b[m\u001b[m@      \u001b[31mpygmentize\u001b[m\u001b[m*            \u001b[31mtoe\u001b[m\u001b[m*\r\n",
      "\u001b[31mexport2sam.pl\u001b[m\u001b[m*         \u001b[34mpysam-0.9.1.4\u001b[m\u001b[m/         \u001b[31mtput\u001b[m\u001b[m*\r\n",
      "\u001b[31mf2py\u001b[m\u001b[m*                  pysam-0.9.1.4.tar.gz   \u001b[31mtset\u001b[m\u001b[m*\r\n",
      "\u001b[31mhtsfile\u001b[m\u001b[m*               \u001b[35mpython\u001b[m\u001b[m@                \u001b[31mvcfutils.pl\u001b[m\u001b[m*\r\n",
      "\u001b[31midle\u001b[m\u001b[m*                  \u001b[35mpython-config\u001b[m\u001b[m@         \u001b[31mwgsim\u001b[m\u001b[m*\r\n",
      "\u001b[31minfocmp\u001b[m\u001b[m*               \u001b[31mpython.app\u001b[m\u001b[m*            \u001b[31mwgsim_eval.pl\u001b[m\u001b[m*\r\n",
      "\u001b[35minfotocap\u001b[m\u001b[m@             \u001b[35mpython2\u001b[m\u001b[m@               \u001b[31mwheel\u001b[m\u001b[m*\r\n",
      "\u001b[31minterpolate_sam.pl\u001b[m\u001b[m*    \u001b[35mpython2-config\u001b[m\u001b[m@        \u001b[31mwish8.5\u001b[m\u001b[m*\r\n",
      "\u001b[31miptest\u001b[m\u001b[m*                \u001b[31mpython2.7\u001b[m\u001b[m*             \u001b[31mzoom2sam.pl\u001b[m\u001b[m*\r\n",
      "\u001b[31miptest2\u001b[m\u001b[m*               \u001b[31mpython2.7-config\u001b[m\u001b[m*\r\n"
     ]
    }
   ],
   "source": [
    "ls"
   ]
  },
  {
   "cell_type": "code",
   "execution_count": 18,
   "metadata": {
    "collapsed": false
   },
   "outputs": [
    {
     "ename": "NameError",
     "evalue": "name 'sixgill_build' is not defined",
     "output_type": "error",
     "traceback": [
      "\u001b[0;31m---------------------------------------------------------------------------\u001b[0m",
      "\u001b[0;31mNameError\u001b[0m                                 Traceback (most recent call last)",
      "\u001b[0;32m<ipython-input-18-4ca5782095a0>\u001b[0m in \u001b[0;36m<module>\u001b[0;34m()\u001b[0m\n\u001b[0;32m----> 1\u001b[0;31m \u001b[0msixgill_build\u001b[0m \u001b[0;34m-\u001b[0m\u001b[0mhelp\u001b[0m\u001b[0;34m\u001b[0m\u001b[0m\n\u001b[0m",
      "\u001b[0;31mNameError\u001b[0m: name 'sixgill_build' is not defined"
     ]
    }
   ],
   "source": [
    "sixgill_build -help"
   ]
  },
  {
   "cell_type": "code",
   "execution_count": null,
   "metadata": {
    "collapsed": true
   },
   "outputs": [],
   "source": []
  }
 ],
 "metadata": {
  "anaconda-cloud": {},
  "kernelspec": {
   "display_name": "Python [conda env:sixgill]",
   "language": "python",
   "name": "conda-env-sixgill-py"
  },
  "language_info": {
   "codemirror_mode": {
    "name": "ipython",
    "version": 2
   },
   "file_extension": ".py",
   "mimetype": "text/x-python",
   "name": "python",
   "nbconvert_exporter": "python",
   "pygments_lexer": "ipython2",
   "version": "2.7.12"
  }
 },
 "nbformat": 4,
 "nbformat_minor": 1
}
